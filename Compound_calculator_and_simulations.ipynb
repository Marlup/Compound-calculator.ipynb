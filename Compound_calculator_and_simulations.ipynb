{
 "cells": [
  {
   "cell_type": "markdown",
   "metadata": {
    "colab_type": "text",
    "id": "view-in-github"
   },
   "source": [
    "<a href=\"https://colab.research.google.com/github/Marlup/Compound-calculator.ipynb/blob/main/Compound_calculator_and_simulations.ipynb\" target=\"_parent\"><img src=\"https://colab.research.google.com/assets/colab-badge.svg\" alt=\"Open In Colab\"/></a>"
   ]
  },
  {
   "cell_type": "code",
   "execution_count": 1,
   "metadata": {
    "id": "4X8BzZOCE-lQ"
   },
   "outputs": [],
   "source": [
    "import numpy as np\n",
    "import pandas as pd\n",
    "from matplotlib import pyplot as plt\n",
    "import seaborn as sns\n",
    "import scipy"
   ]
  },
  {
   "cell_type": "markdown",
   "metadata": {
    "id": "DIQCA9zIq5Q9"
   },
   "source": [
    "https://www.bizskinny.com/Finance/Compound-Interest/compound-interest-with-monthly-contributions.php"
   ]
  },
  {
   "cell_type": "code",
   "execution_count": 2,
   "metadata": {
    "id": "je-x6lWDB4m8"
   },
   "outputs": [],
   "source": [
    "def composed_return(p, yc, r, y, t, return_acum_roi=False):\n",
    "  # We assume returns occur once the contribution is added.\n",
    "    term_roi = r / t\n",
    "    pc = yc / t\n",
    "\n",
    "    acum_roi = (1 + term_roi) ** (y * t)\n",
    "    principal_term = p * acum_roi\n",
    "    contribution_term = (pc * (acum_roi - 1)) / term_roi\n",
    "    p_t1 =  principal_term + contribution_term\n",
    "    if return_acum_roi:\n",
    "        return round(p_t1, 2), round(acum_roi, 2)\n",
    "    return round(p_t1, 2)"
   ]
  },
  {
   "cell_type": "code",
   "execution_count": 6,
   "metadata": {
    "id": "xX7BoCHcB7d0"
   },
   "outputs": [],
   "source": [
    "def earning_by_time(principal, \n",
    "                    roi, \n",
    "                    years,\n",
    "                    freq_comp,\n",
    "                    yearly_contribution=0,\n",
    "                    on_taxes=False,\n",
    "                    taxes_per=0):\n",
    "    MONTHS = 12\n",
    "    money_t = principal\n",
    "    earnings_per_year = []\n",
    "    if (freq_comp is None) or (freq_comp < 1):\n",
    "        freq_comp = 1\n",
    "    monthly_contribution = yearly_contribution / MONTHS\n",
    "    monthly_roi = roi / freq_comp\n",
    "    c = 0\n",
    "    for year in range(years):\n",
    "        #print('----------')\n",
    "        for month in range(1, MONTHS + 1):\n",
    "            if c % (12 // freq_comp) == 0:\n",
    "                #print(c)\n",
    "                earning = money_t * monthly_roi\n",
    "                earnings_per_year.append(earning)\n",
    "                c = 0\n",
    "            else:\n",
    "                earning = 0.0\n",
    "            # Interest computed before contribution (downer benefit)\n",
    "            money_t += earning + monthly_contribution\n",
    "            c += 1\n",
    "            if on_taxes:\n",
    "                money_t -= sum(earnings_per_year[y * 12:(y + 1) * 12]) * taxes_per\n",
    "    return money_t, earnings_per_year"
   ]
  },
  {
   "cell_type": "markdown",
   "metadata": {
    "id": "J-2c7ebUvSab"
   },
   "source": [
    "Calculation of composed return. Composed return function"
   ]
  },
  {
   "cell_type": "code",
   "execution_count": 50,
   "metadata": {
    "colab": {
     "base_uri": "https://localhost:8080/"
    },
    "id": "jRKprHGXirzs",
    "outputId": "b981dfbd-35ac-4641-8360-9261d09e07ab"
   },
   "outputs": [
    {
     "data": {
      "text/plain": [
       "(160063.83, 13.27)"
      ]
     },
     "execution_count": 50,
     "metadata": {},
     "output_type": "execute_result"
    }
   ],
   "source": [
    "# Calculation of composed return. Composed return function\n",
    "principal_amount = 5900\n",
    "min_contribution = 50\n",
    "year_periods = 12\n",
    "yearly_contribution = min_contribution * year_periods\n",
    "roi = 0.09\n",
    "years = 30\n",
    "freq = 1\n",
    "periodic_contribution = yearly_contribution / freq\n",
    "\n",
    "composed_return(principal_amount, yearly_contribution, roi, years, freq, True)"
   ]
  },
  {
   "cell_type": "markdown",
   "metadata": {
    "id": "OYnUR7MZvVAI"
   },
   "source": [
    "Calculation of composed return. Simulation"
   ]
  },
  {
   "cell_type": "code",
   "execution_count": 52,
   "metadata": {
    "colab": {
     "base_uri": "https://localhost:8080/"
    },
    "id": "pgEbu8O8B9IS",
    "outputId": "59819f93-88d2-444e-8d01-4cbddee4b270"
   },
   "outputs": [
    {
     "name": "stdout",
     "output_type": "stream",
     "text": [
      "Total income, earnings and total input contribution\n"
     ]
    },
    {
     "data": {
      "text/plain": [
       "(440476.2, 340476.2, 100000.0, 3.4)"
      ]
     },
     "execution_count": 52,
     "metadata": {},
     "output_type": "execute_result"
    }
   ],
   "source": [
    "total_money, earnings = earning_by_time(principal_amount, \n",
    "                                        roi, \n",
    "                                        years, \n",
    "                                        freq, \n",
    "                                        yearly_contribution)\n",
    "\n",
    "print('Total income, earnings and total input contribution')\n",
    "\n",
    "total_earnings = sum(earnings)\n",
    "total_input_contribution = total_money - total_earnings\n",
    "earning_per_contribution = total_earnings / (total_money - total_earnings)\n",
    "\n",
    "round(total_money, 2), round(total_earnings, 2), round(total_input_contribution, 2), round(earning_per_contribution, 2)"
   ]
  },
  {
   "cell_type": "markdown",
   "metadata": {
    "id": "s73DhmMWvvqV"
   },
   "source": [
    "## Scenario"
   ]
  },
  {
   "cell_type": "code",
   "execution_count": 83,
   "metadata": {
    "id": "mFI-qV1nB_1d"
   },
   "outputs": [],
   "source": [
    "def build_dataframe(data):\n",
    "    index = pd.MultiIndex.from_tuples(list(data.keys()))\n",
    "    df = pd.DataFrame(list(data.values()), index=index)\n",
    "  \n",
    "    df = df.reset_index()\n",
    "    df.columns = ['initial_amount', 'roi', 'year', 'term', 'amount']\n",
    "    return df\n",
    "def define_scenario(initial_mounts, rois, years, terms, contribution):\n",
    "    accumulated_money = {}\n",
    "    for money in initial_mounts:\n",
    "        for roi in rois:\n",
    "            for year in years:\n",
    "                for term in terms:\n",
    "                    total_money, _ = earning_by_time(money, roi, year, term, contribution)\n",
    "                    accumulated_money[(money, roi, year, term)] = total_money\n",
    "    \n",
    "    return build_dataframe(accumulated_money)"
   ]
  },
  {
   "cell_type": "code",
   "execution_count": 93,
   "metadata": {
    "id": "OL9SigPkENdl"
   },
   "outputs": [],
   "source": [
    "step_amount = 5_000\n",
    "max_amount = 20_000\n",
    "virtual_returns = np.arange(0.06, 0.12, 0.02)\n",
    "years_of_investment = np.arange(5, 30 + 5, 5)\n",
    "terms = (1, )\n",
    "yearly_contribution = 50 * 12\n",
    "results = define_scenario(np.arange(step_amount, max_amount + step_amount, step_amount), \n",
    "                          virtual_returns,\n",
    "                          years_of_investment, \n",
    "                          terms,\n",
    "                          yearly_contribution\n",
    "                          )\n",
    "results.drop(\"term\", axis=1, inplace=True)"
   ]
  },
  {
   "cell_type": "code",
   "execution_count": 94,
   "metadata": {
    "colab": {
     "base_uri": "https://localhost:8080/"
    },
    "id": "6Zg13ZzbE9z4",
    "outputId": "4a59971f-a091-425e-911d-682ed6e6ca14"
   },
   "outputs": [
    {
     "data": {
      "text/html": [
       "<div>\n",
       "<style scoped>\n",
       "    .dataframe tbody tr th:only-of-type {\n",
       "        vertical-align: middle;\n",
       "    }\n",
       "\n",
       "    .dataframe tbody tr th {\n",
       "        vertical-align: top;\n",
       "    }\n",
       "\n",
       "    .dataframe thead th {\n",
       "        text-align: right;\n",
       "    }\n",
       "</style>\n",
       "<table border=\"1\" class=\"dataframe\">\n",
       "  <thead>\n",
       "    <tr style=\"text-align: right;\">\n",
       "      <th></th>\n",
       "      <th>initial_amount</th>\n",
       "      <th>roi</th>\n",
       "      <th>year</th>\n",
       "      <th>amount</th>\n",
       "    </tr>\n",
       "  </thead>\n",
       "  <tbody>\n",
       "    <tr>\n",
       "      <th>0</th>\n",
       "      <td>5000</td>\n",
       "      <td>0.06</td>\n",
       "      <td>5</td>\n",
       "      <td>10073.383664</td>\n",
       "    </tr>\n",
       "    <tr>\n",
       "      <th>1</th>\n",
       "      <td>5000</td>\n",
       "      <td>0.06</td>\n",
       "      <td>10</td>\n",
       "      <td>16862.715448</td>\n",
       "    </tr>\n",
       "    <tr>\n",
       "      <th>2</th>\n",
       "      <td>5000</td>\n",
       "      <td>0.06</td>\n",
       "      <td>15</td>\n",
       "      <td>25948.372896</td>\n",
       "    </tr>\n",
       "    <tr>\n",
       "      <th>3</th>\n",
       "      <td>5000</td>\n",
       "      <td>0.06</td>\n",
       "      <td>20</td>\n",
       "      <td>38107.032083</td>\n",
       "    </tr>\n",
       "    <tr>\n",
       "      <th>4</th>\n",
       "      <td>5000</td>\n",
       "      <td>0.06</td>\n",
       "      <td>25</td>\n",
       "      <td>54378.060796</td>\n",
       "    </tr>\n",
       "    <tr>\n",
       "      <th>...</th>\n",
       "      <td>...</td>\n",
       "      <td>...</td>\n",
       "      <td>...</td>\n",
       "      <td>...</td>\n",
       "    </tr>\n",
       "    <tr>\n",
       "      <th>67</th>\n",
       "      <td>20000</td>\n",
       "      <td>0.10</td>\n",
       "      <td>10</td>\n",
       "      <td>61437.303963</td>\n",
       "    </tr>\n",
       "    <tr>\n",
       "      <th>68</th>\n",
       "      <td>20000</td>\n",
       "      <td>0.10</td>\n",
       "      <td>15</td>\n",
       "      <td>102608.452405</td>\n",
       "    </tr>\n",
       "    <tr>\n",
       "      <th>69</th>\n",
       "      <td>20000</td>\n",
       "      <td>0.10</td>\n",
       "      <td>20</td>\n",
       "      <td>168914.998682</td>\n",
       "    </tr>\n",
       "    <tr>\n",
       "      <th>70</th>\n",
       "      <td>20000</td>\n",
       "      <td>0.10</td>\n",
       "      <td>25</td>\n",
       "      <td>275702.354528</td>\n",
       "    </tr>\n",
       "    <tr>\n",
       "      <th>71</th>\n",
       "      <td>20000</td>\n",
       "      <td>0.10</td>\n",
       "      <td>30</td>\n",
       "      <td>447684.458991</td>\n",
       "    </tr>\n",
       "  </tbody>\n",
       "</table>\n",
       "<p>72 rows × 4 columns</p>\n",
       "</div>"
      ],
      "text/plain": [
       "    initial_amount   roi  year         amount\n",
       "0             5000  0.06     5   10073.383664\n",
       "1             5000  0.06    10   16862.715448\n",
       "2             5000  0.06    15   25948.372896\n",
       "3             5000  0.06    20   38107.032083\n",
       "4             5000  0.06    25   54378.060796\n",
       "..             ...   ...   ...            ...\n",
       "67           20000  0.10    10   61437.303963\n",
       "68           20000  0.10    15  102608.452405\n",
       "69           20000  0.10    20  168914.998682\n",
       "70           20000  0.10    25  275702.354528\n",
       "71           20000  0.10    30  447684.458991\n",
       "\n",
       "[72 rows x 4 columns]"
      ]
     },
     "execution_count": 94,
     "metadata": {},
     "output_type": "execute_result"
    }
   ],
   "source": [
    "results"
   ]
  },
  {
   "cell_type": "code",
   "execution_count": 96,
   "metadata": {
    "colab": {
     "base_uri": "https://localhost:8080/",
     "height": 635
    },
    "id": "MGLRrMQZw1X8",
    "outputId": "bdbfb865-8cf1-460f-cc27-037e46df790f"
   },
   "outputs": [
    {
     "name": "stdout",
     "output_type": "stream",
     "text": [
      "     roi         amount\n",
      "41  0.06  133587.279323\n",
      "47  0.08  218909.780004\n",
      "53  0.10  360437.447647\n"
     ]
    },
    {
     "data": {
      "text/plain": [
       "Text(0.5, 1.0, '                    Initial amount: 15000\\nYears: 30\\nTerms: 1')"
      ]
     },
     "execution_count": 96,
     "metadata": {},
     "output_type": "execute_result"
    },
    {
     "data": {
      "image/png": "[encoded data removed]",
      "text/plain": [
       "<Figure size 640x480 with 1 Axes>"
      ]
     },
     "metadata": {},
     "output_type": "display_data"
    }
   ],
   "source": [
    "stage_ini_amount = 15_000\n",
    "stage_years = 30\n",
    "stage_rois = results[(results[\"initial_amount\"] == stage_ini_amount) & \\\n",
    "                        (results[\"year\"] == stage_years)\n",
    "                        ][[\"roi\", \"amount\"]]\n",
    "print(stage_rois)\n",
    "sns.barplot(data=stage_rois, \n",
    "            x=\"roi\", \n",
    "            y=\"amount\",\n",
    "            )\n",
    "plt.title(20*\" \" + f\"Initial amount: {stage_ini_amount}\\nYears: {years}\\nTerms: {stage_terms}\")"
   ]
  },
  {
   "cell_type": "markdown",
   "metadata": {
    "id": "32MqnCrEAWc9"
   },
   "source": [
    "<h2>\n",
    "Normal distribution of mean 0 and standard deviation of 1. What is the left and right points from which the total probability of being between those values is 0.99 (99%)?\n",
    "<h2>\n",
    "\n",
    "To determine the left and right points from which the total probability of being between those values is 0.99 (99%) for a standard normal distribution with a mean of 0 and a standard deviation of 1, we need to find the corresponding z-scores.\n",
    "\n",
    "The total probability of being between two z-scores represents the area under the standard normal curve between those points. Since the standard normal distribution is symmetric, we can find the z-scores corresponding to the 0.005 (0.5% on each tail) and 0.995 (99.5% on each tail) probabilities.\n",
    "\n",
    "Using a standard normal distribution table or a statistical calculator, we can find these z-scores.\n",
    "\n",
    "The left z-score (the point from which the total probability to the left is 0.005) is approximately -2.576.\n",
    "The right z-score (the point from which the total probability to the right is 0.005) is approximately 2.576.\n",
    "\n",
    "Therefore, the left and right points from which the total probability of being between those values is 0.99 (99%) are approximately -2.576 and 2.576, respectively."
   ]
  },
  {
   "cell_type": "code",
   "execution_count": 128,
   "metadata": {
    "colab": {
     "base_uri": "https://localhost:8080/"
    },
    "id": "NxqLdf7e0hM7",
    "outputId": "f06831ff-c627-4046-accd-0468e18288d7"
   },
   "outputs": [
    {
     "data": {
      "text/plain": [
       "(0.005, 0.995, -0.15454975821293404, 0.154549758212934, 0.3090995164258681)"
      ]
     },
     "execution_count": 128,
     "metadata": {},
     "output_type": "execute_result"
    }
   ],
   "source": [
    "alpha = 0.01\n",
    "roi = 0.06\n",
    "std = 0.06\n",
    "lower_q = scipy.stats.norm(0.0, std).ppf(alpha / 2)\n",
    "upper_q = scipy.stats.norm(0.0, std).ppf(1 - (alpha / 2))\n",
    "interval = upper_q - lower_q\n",
    "alpha / 2, 1 - (alpha / 2), lower_q, upper_q, interval"
   ]
  },
  {
   "cell_type": "code",
   "execution_count": 19,
   "metadata": {
    "id": "jaItOL9lwGeb"
   },
   "outputs": [],
   "source": [
    "sns.set_style('darkgrid')\n",
    "sns.color_palette(\"Paired\")\n",
    "sns.set_palette(\"Paired\")"
   ]
  },
  {
   "cell_type": "code",
   "execution_count": 129,
   "metadata": {
    "id": "DUPfypIL9lcc"
   },
   "outputs": [],
   "source": [
    "def plot_temporal_serie(df, x_name, y_name, param):\n",
    "  df_temp = df.copy()\n",
    "  sns.scatterplot(data=df_temp, x=x_name, y=y_name, hue=param)"
   ]
  },
  {
   "cell_type": "code",
   "execution_count": 130,
   "metadata": {
    "colab": {
     "base_uri": "https://localhost:8080/",
     "height": 711
    },
    "id": "q0noO6dpvp03",
    "outputId": "0c18c946-d980-4351-a0b1-8da2a4cca4e9"
   },
   "outputs": [
    {
     "data": {
      "image/png": "[encoded data removed]",
      "text/plain": [
       "<Figure size 1200x800 with 1 Axes>"
      ]
     },
     "metadata": {},
     "output_type": "display_data"
    }
   ],
   "source": [
    "plt.figure(figsize=(12, 8))\n",
    "plot_temporal_serie(results, 'year', 'amount', 'roi')"
   ]
  },
  {
   "cell_type": "markdown",
   "metadata": {
    "id": "FchWHgIy22_f"
   },
   "source": [
    "## Income estimation after retirement"
   ]
  },
  {
   "cell_type": "markdown",
   "metadata": {
    "id": "Kp0QnEr65aFG"
   },
   "source": [
    "Problem bounds:\n",
    "1. Retirement occurs before or at 65.\n",
    "1. Fixed income every month before taxes.\n",
    "1. Define maximum lifespan."
   ]
  },
  {
   "cell_type": "code",
   "execution_count": 98,
   "metadata": {
    "id": "A-SXXY8754mP"
   },
   "outputs": [],
   "source": [
    "retirement_ages = np.arange(40, 65 + 5, 5)\n",
    "fixed_incomes = np.arange(1500, 5000 + 500, 500)\n",
    "lifespans = np.arange(80, 100 + 5, 5)\n",
    "MONTHS = 12"
   ]
  },
  {
   "cell_type": "code",
   "execution_count": 99,
   "metadata": {
    "id": "GVzj1QdD6m9W"
   },
   "outputs": [],
   "source": [
    "total_amounts = {}\n",
    "\n",
    "for age in retirement_ages:\n",
    "    for fixed_income in fixed_incomes:\n",
    "        for lifespan in lifespans:\n",
    "            age_dif = lifespan - age\n",
    "            amount = fixed_income * age_dif * MONTHS\n",
    "            key = (age, lifespan, fixed_income)\n",
    "\n",
    "            total_amounts[key] = amount"
   ]
  },
  {
   "cell_type": "code",
   "execution_count": 100,
   "metadata": {
    "colab": {
     "base_uri": "https://localhost:8080/",
     "height": 455
    },
    "id": "rGtQWMCh7YTx",
    "outputId": "cf90ada7-3f2f-4bba-a6a3-2ae7999add07"
   },
   "outputs": [
    {
     "data": {
      "text/html": [
       "<div>\n",
       "<style scoped>\n",
       "    .dataframe tbody tr th:only-of-type {\n",
       "        vertical-align: middle;\n",
       "    }\n",
       "\n",
       "    .dataframe tbody tr th {\n",
       "        vertical-align: top;\n",
       "    }\n",
       "\n",
       "    .dataframe thead th {\n",
       "        text-align: right;\n",
       "    }\n",
       "</style>\n",
       "<table border=\"1\" class=\"dataframe\">\n",
       "  <thead>\n",
       "    <tr style=\"text-align: right;\">\n",
       "      <th></th>\n",
       "      <th></th>\n",
       "      <th></th>\n",
       "      <th>amount_to_gather</th>\n",
       "    </tr>\n",
       "    <tr>\n",
       "      <th>age</th>\n",
       "      <th>lifespan</th>\n",
       "      <th>retirement_income</th>\n",
       "      <th></th>\n",
       "    </tr>\n",
       "  </thead>\n",
       "  <tbody>\n",
       "    <tr>\n",
       "      <th rowspan=\"5\" valign=\"top\">40</th>\n",
       "      <th>80</th>\n",
       "      <th>1500</th>\n",
       "      <td>720000</td>\n",
       "    </tr>\n",
       "    <tr>\n",
       "      <th>85</th>\n",
       "      <th>1500</th>\n",
       "      <td>810000</td>\n",
       "    </tr>\n",
       "    <tr>\n",
       "      <th>90</th>\n",
       "      <th>1500</th>\n",
       "      <td>900000</td>\n",
       "    </tr>\n",
       "    <tr>\n",
       "      <th>95</th>\n",
       "      <th>1500</th>\n",
       "      <td>990000</td>\n",
       "    </tr>\n",
       "    <tr>\n",
       "      <th>100</th>\n",
       "      <th>1500</th>\n",
       "      <td>1080000</td>\n",
       "    </tr>\n",
       "    <tr>\n",
       "      <th>...</th>\n",
       "      <th>...</th>\n",
       "      <th>...</th>\n",
       "      <td>...</td>\n",
       "    </tr>\n",
       "    <tr>\n",
       "      <th rowspan=\"5\" valign=\"top\">65</th>\n",
       "      <th>80</th>\n",
       "      <th>5000</th>\n",
       "      <td>900000</td>\n",
       "    </tr>\n",
       "    <tr>\n",
       "      <th>85</th>\n",
       "      <th>5000</th>\n",
       "      <td>1200000</td>\n",
       "    </tr>\n",
       "    <tr>\n",
       "      <th>90</th>\n",
       "      <th>5000</th>\n",
       "      <td>1500000</td>\n",
       "    </tr>\n",
       "    <tr>\n",
       "      <th>95</th>\n",
       "      <th>5000</th>\n",
       "      <td>1800000</td>\n",
       "    </tr>\n",
       "    <tr>\n",
       "      <th>100</th>\n",
       "      <th>5000</th>\n",
       "      <td>2100000</td>\n",
       "    </tr>\n",
       "  </tbody>\n",
       "</table>\n",
       "<p>240 rows × 1 columns</p>\n",
       "</div>"
      ],
      "text/plain": [
       "                                amount_to_gather\n",
       "age lifespan retirement_income                  \n",
       "40  80       1500                         720000\n",
       "    85       1500                         810000\n",
       "    90       1500                         900000\n",
       "    95       1500                         990000\n",
       "    100      1500                        1080000\n",
       "...                                          ...\n",
       "65  80       5000                         900000\n",
       "    85       5000                        1200000\n",
       "    90       5000                        1500000\n",
       "    95       5000                        1800000\n",
       "    100      5000                        2100000\n",
       "\n",
       "[240 rows x 1 columns]"
      ]
     },
     "execution_count": 100,
     "metadata": {},
     "output_type": "execute_result"
    }
   ],
   "source": [
    "return_amounts = pd.DataFrame(data=total_amounts.values(), \n",
    "                              index=total_amounts.keys(), \n",
    "                              columns=['amount_to_gather']\n",
    "                              )\n",
    "return_amounts.index.set_names(['age', 'lifespan', 'retirement_income'], \n",
    "                               inplace=True)\n",
    "return_amounts"
   ]
  },
  {
   "cell_type": "markdown",
   "metadata": {
    "id": "_ouENU3fB-A4"
   },
   "source": [
    "Cases:\n",
    "\n",
    "1. retirement at 50, lifespan of 90 and retirement income of 2500\n",
    "1. retirement at 65, lifespan of 90 and retirement income of 2000"
   ]
  },
  {
   "cell_type": "code",
   "execution_count": 101,
   "metadata": {
    "colab": {
     "base_uri": "https://localhost:8080/",
     "height": 143
    },
    "id": "Pf_xm5JuFPVQ",
    "outputId": "f23e8e6d-2177-4575-a7a6-ce655a998b0f"
   },
   "outputs": [
    {
     "data": {
      "text/html": [
       "<div>\n",
       "<style scoped>\n",
       "    .dataframe tbody tr th:only-of-type {\n",
       "        vertical-align: middle;\n",
       "    }\n",
       "\n",
       "    .dataframe tbody tr th {\n",
       "        vertical-align: top;\n",
       "    }\n",
       "\n",
       "    .dataframe thead th {\n",
       "        text-align: right;\n",
       "    }\n",
       "</style>\n",
       "<table border=\"1\" class=\"dataframe\">\n",
       "  <thead>\n",
       "    <tr style=\"text-align: right;\">\n",
       "      <th></th>\n",
       "      <th></th>\n",
       "      <th></th>\n",
       "      <th>amount_to_gather</th>\n",
       "    </tr>\n",
       "    <tr>\n",
       "      <th>age</th>\n",
       "      <th>lifespan</th>\n",
       "      <th>retirement_income</th>\n",
       "      <th></th>\n",
       "    </tr>\n",
       "  </thead>\n",
       "  <tbody>\n",
       "    <tr>\n",
       "      <th>50</th>\n",
       "      <th>90</th>\n",
       "      <th>2500</th>\n",
       "      <td>1200000</td>\n",
       "    </tr>\n",
       "    <tr>\n",
       "      <th>65</th>\n",
       "      <th>90</th>\n",
       "      <th>2000</th>\n",
       "      <td>600000</td>\n",
       "    </tr>\n",
       "  </tbody>\n",
       "</table>\n",
       "</div>"
      ],
      "text/plain": [
       "                                amount_to_gather\n",
       "age lifespan retirement_income                  \n",
       "50  90       2500                        1200000\n",
       "65  90       2000                         600000"
      ]
     },
     "execution_count": 101,
     "metadata": {},
     "output_type": "execute_result"
    }
   ],
   "source": [
    "return_amounts.loc[[(50, 90, 2500), \n",
    "                    (65, 90, 2000)], :]"
   ]
  },
  {
   "cell_type": "markdown",
   "metadata": {
    "id": "ADUGA2BDCMA-"
   },
   "source": [
    "### Virtual case of household expenses (1 person, medium-high standards)"
   ]
  },
  {
   "cell_type": "code",
   "execution_count": 113,
   "metadata": {
    "colab": {
     "base_uri": "https://localhost:8080/"
    },
    "id": "ouaf5abcFnQd",
    "outputId": "d81958f6-b55d-4607-a07e-f44a65825d75"
   },
   "outputs": [
    {
     "name": "stdout",
     "output_type": "stream",
     "text": [
      "Total month, total net income (salaries), total expenses\n"
     ]
    },
    {
     "data": {
      "text/plain": [
       "(2641.6666666666665, 1050000, 1551000.0)"
      ]
     },
     "execution_count": 113,
     "metadata": {},
     "output_type": "execute_result"
    }
   ],
   "source": [
    "months = 12\n",
    "pct_unexpected_expenses = 0.1\n",
    "pct_investment = 0.1\n",
    "\n",
    "# Net income\n",
    "yearly_net_income = 35000\n",
    "years = 30\n",
    "total_net_incomes = yearly_net_income * years\n",
    "\n",
    "# Expenses\n",
    "house_price = 600000\n",
    "grosery_month = 600\n",
    "light = 150\n",
    "gas = 100\n",
    "water = 50\n",
    "comms = 150\n",
    "insurances = 100\n",
    "home_insurance = 500 / months\n",
    "cloths_drugs_cleaning = 150\n",
    "overall_maintenance = 200\n",
    "# Unexpected expensed, two options:\n",
    "# 1. Constant: 50\n",
    "# 2. (prefered) Income dependent: 5 % to 10 % of monthly net income\n",
    "unexpected_expenses = pct_unexpected_expenses * yearly_net_income / months\n",
    "neighbourhood_community = 100\n",
    "IBI_tax = 500 / months\n",
    "garbage_tax = 100 / months\n",
    "leisures = 200\n",
    "holidays = 2000 / months\n",
    "investments = pct_investment * yearly_net_income / months\n",
    "total_month = (grosery_month, \n",
    "               light, \n",
    "               gas, \n",
    "               water,\n",
    "               comms, \n",
    "               insurances, \n",
    "               cloths_drugs_cleaning, \n",
    "               overall_maintenance, \n",
    "               unexpected_expenses, \n",
    "               neighbourhood_community,\n",
    "               IBI_tax, \n",
    "               home_insurance,\n",
    "               garbage_tax,\n",
    "               leisures,\n",
    "               holidays,\n",
    "               investments,\n",
    "               )\n",
    "\n",
    "total_expenses = house_price + sum(total_month) * years * months\n",
    "\n",
    "print('Total month, total net income (salaries), total expenses')\n",
    "sum(total_month), total_net_incomes, total_expenses #, total_expenses / (years * months)"
   ]
  },
  {
   "cell_type": "code",
   "execution_count": 104,
   "metadata": {
    "colab": {
     "base_uri": "https://localhost:8080/"
    },
    "id": "3y8aqGsWEr9N",
    "outputId": "1226ff7d-ee9c-4efc-e9c2-47ada5f41a25"
   },
   "outputs": [
    {
     "data": {
      "text/plain": [
       "(240000.0, 1000.0)"
      ]
     },
     "execution_count": 104,
     "metadata": {},
     "output_type": "execute_result"
    }
   ],
   "source": [
    "# advance payment percentage\n",
    "down_pct = 0.4\n",
    "mortage_down_payment = house_price * down_pct\n",
    "mortage_down_payment_per_month = (house_price - mortage_down_payment) / (months * years)\n",
    "mortage_down_payment, mortage_down_payment_per_month"
   ]
  },
  {
   "cell_type": "markdown",
   "metadata": {
    "id": "rSiLamOVY3r5"
   },
   "source": [
    "Investment return"
   ]
  },
  {
   "cell_type": "code",
   "execution_count": 105,
   "metadata": {
    "colab": {
     "base_uri": "https://localhost:8080/"
    },
    "id": "NFHjHLoBiI7f",
    "outputId": "fe7d11f2-214b-4eb2-ca59-387670a18cce"
   },
   "outputs": [
    {
     "data": {
      "text/plain": [
       "3500.0"
      ]
     },
     "execution_count": 105,
     "metadata": {},
     "output_type": "execute_result"
    }
   ],
   "source": [
    "investments * months"
   ]
  },
  {
   "cell_type": "code",
   "execution_count": 109,
   "metadata": {
    "colab": {
     "base_uri": "https://localhost:8080/"
    },
    "id": "cjGSLZ80XJyc",
    "outputId": "03bc69e3-00a3-4d6b-9d2a-b5f3e75c8d36"
   },
   "outputs": [
    {
     "name": "stdout",
     "output_type": "stream",
     "text": [
      "Total income, contribution, earnings and ratio earning-to-contribution (amount of earnings that I make per amount of contribution)\n"
     ]
    },
    {
     "data": {
      "text/plain": [
       "(750223.1, 115000.0, 635223.1, 5.5)"
      ]
     },
     "execution_count": 109,
     "metadata": {},
     "output_type": "execute_result"
    }
   ],
   "source": [
    "total_money, earnings = earning_by_time(principal=10000, \n",
    "                                        roi=0.1, \n",
    "                                        years=30, \n",
    "                                        freq_comp=1, \n",
    "                                        yearly_contribution=investments * months)\n",
    "total_earnings = sum(earnings)\n",
    "total_contribution = (total_money - total_earnings)\n",
    "earnings_per_contribution = total_earnings / (total_money - total_earnings)\n",
    "print('Total income, contribution, earnings and ratio earning-to-contribution (amount of earnings that I make per amount of contribution)')\n",
    "n_round = 1\n",
    "np.round(total_money, n_round), np.round(total_contribution, n_round), \\\n",
    "np.round(total_earnings, n_round), np.round(earnings_per_contribution, n_round)"
   ]
  },
  {
   "cell_type": "code",
   "execution_count": null,
   "metadata": {
    "id": "Jt7Wo4ZekpAs"
   },
   "outputs": [],
   "source": []
  }
 ],
 "metadata": {
  "colab": {
   "authorship_tag": "ABX9TyNGA0KMENiYmJHadNsNLyf+",
   "include_colab_link": true,
   "provenance": []
  },
  "kernelspec": {
   "display_name": "Python 3 (ipykernel)",
   "language": "python",
   "name": "python3"
  },
  "language_info": {
   "codemirror_mode": {
    "name": "ipython",
    "version": 3
   },
   "file_extension": ".py",
   "mimetype": "text/x-python",
   "name": "python",
   "nbconvert_exporter": "python",
   "pygments_lexer": "ipython3",
   "version": "3.10.11"
  }
 },
 "nbformat": 4,
 "nbformat_minor": 1
}
